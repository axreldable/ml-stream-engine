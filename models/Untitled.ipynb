{
 "cells": [
  {
   "cell_type": "code",
   "execution_count": 1,
   "metadata": {},
   "outputs": [
    {
     "name": "stdout",
     "output_type": "stream",
     "text": [
      "['0'] ['1'] ['1'] ['1']\n"
     ]
    },
    {
     "name": "stderr",
     "output_type": "stream",
     "text": [
      "/anaconda3/envs/diploma/lib/python3.6/site-packages/sklearn/linear_model/logistic.py:433: FutureWarning: Default solver will be changed to 'lbfgs' in 0.22. Specify a solver to silence this warning.\n",
      "  FutureWarning)\n",
      "/anaconda3/envs/diploma/lib/python3.6/site-packages/sklearn/utils/validation.py:761: DataConversionWarning: A column-vector y was passed when a 1d array was expected. Please change the shape of y to (n_samples, ), for example using ravel().\n",
      "  y = column_or_1d(y, warn=True)\n"
     ]
    }
   ],
   "source": [
    "from sklearn.linear_model import LogisticRegression\n",
    "import pandas as pd\n",
    "from sklearn2pmml import sklearn2pmml\n",
    "from sklearn2pmml.pipeline import PMMLPipeline\n",
    "\n",
    "def create_data():\n",
    "    d = {'x1': [1, 2, 3, 3], 'x2': [1, 1, 1, 1], 'x3': [2, 1, 2, 2]}\n",
    "    x = pd.DataFrame(data=d)\n",
    "    \n",
    "    d = {'y': ['0', '0', '1', '1']}\n",
    "    y = pd.DataFrame(data=d)\n",
    "    return (x, y)\n",
    "\n",
    "X, y = create_data()\n",
    "\n",
    "clf = LogisticRegression()\n",
    "\n",
    "clf.fit(X, y)\n",
    "\n",
    "pred_1 = clf.predict([[1, 1, 2]])\n",
    "pred_2 = clf.predict([[2, 1, 1]])\n",
    "pred_3 = clf.predict([[3, 1, 2]])\n",
    "pred_4 = clf.predict([[3, 1, 2]])\n",
    "\n",
    "print(pred_1, pred_2, pred_3, pred_4)"
   ]
  },
  {
   "cell_type": "code",
   "execution_count": 2,
   "metadata": {},
   "outputs": [
    {
     "name": "stderr",
     "output_type": "stream",
     "text": [
      "/anaconda3/envs/diploma/lib/python3.6/site-packages/sklearn/linear_model/logistic.py:433: FutureWarning: Default solver will be changed to 'lbfgs' in 0.22. Specify a solver to silence this warning.\n",
      "  FutureWarning)\n",
      "/anaconda3/envs/diploma/lib/python3.6/site-packages/sklearn/utils/validation.py:761: DataConversionWarning: A column-vector y was passed when a 1d array was expected. Please change the shape of y to (n_samples, ), for example using ravel().\n",
      "  y = column_or_1d(y, warn=True)\n"
     ]
    }
   ],
   "source": [
    "pipeline = PMMLPipeline([(\"classifier\", LogisticRegression())])\n",
    "pipeline.fit(X, y)\n",
    "\n",
    "sklearn2pmml(pipeline, \"simple.pmml\", with_repr = True)"
   ]
  }
 ],
 "metadata": {
  "kernelspec": {
   "display_name": "Python 3",
   "language": "python",
   "name": "python3"
  },
  "language_info": {
   "codemirror_mode": {
    "name": "ipython",
    "version": 3
   },
   "file_extension": ".py",
   "mimetype": "text/x-python",
   "name": "python",
   "nbconvert_exporter": "python",
   "pygments_lexer": "ipython3",
   "version": "3.6.8"
  }
 },
 "nbformat": 4,
 "nbformat_minor": 2
}
